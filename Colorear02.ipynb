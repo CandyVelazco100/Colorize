{
 "cells": [
  {
   "cell_type": "markdown",
   "metadata": {},
   "source": [
    "\n",
    "Autor: NeuralNine\n",
    "Colorize black and white images in Python\n",
    "https://www.youtube.com/watch?v=oNjQpq8QuAo\n",
    "\n",
    "Convertido a Jupyter Notebook por Jaime Olvera\n",
    "\n",
    "Se trabajará con Redes Neuronales Convolucionales"
   ]
  },
  {
   "cell_type": "code",
   "execution_count": 1,
   "metadata": {},
   "outputs": [],
   "source": [
    "import numpy as np\n",
    "# cv2 proviene de opencv-python, por lo que se instalará con ese nombre\n",
    "import cv2"
   ]
  },
  {
   "cell_type": "code",
   "execution_count": 2,
   "metadata": {},
   "outputs": [],
   "source": [
    "# se cargan archivos auxiliares, estos provienen de la siguiente liga:\n",
    "# modelo: htps://github/richzhang/colorization/tree/caffe/colorization/models\n",
    "# points: htps://github/richzhang/colorization/tree/caffe/colorization/resources.pts_in_hull.npy\n",
    "# inspired: https://github/opencv/opencv/blob/master/samples/dnn/colorization.py\n",
    "# Los archivos que se baja de ahí se ponen en una carpeta llamada ´model´\n",
    "\n",
    "prototext_path =  \"./model/colorization_deploy_v2.prototxt\"\n",
    "model_path = \"./model/colorization_release_v2.caffemodel\"\n",
    "kernel_path = \"./model/pts_in_hull.npy\"\n",
    "image_path = \"./images/image.jpg\""
   ]
  },
  {
   "cell_type": "code",
   "execution_count": 3,
   "metadata": {},
   "outputs": [],
   "source": [
    "# se construye la red neural y se llamará ´net´. La red neural ya ha sido entrenada previamiente\n",
    "net = cv2.dnn.readNetFromCaffe(prototext_path, model_path)"
   ]
  },
  {
   "cell_type": "code",
   "execution_count": 4,
   "metadata": {},
   "outputs": [],
   "source": [
    "# usando el método ´load´ de numpy se carga la imagen a trabajar y recibe el nombre de ´points´\n",
    "points = np.load(kernel_path)"
   ]
  },
  {
   "cell_type": "code",
   "execution_count": 5,
   "metadata": {},
   "outputs": [],
   "source": [
    "# A la imagen llamada points se le hace traspuesta y se redifine su tamaño, luego se le pasa a la red neural\n",
    "# para entender mejor esta parte es importante revisar la sintaxis de opencv\n",
    "\n",
    "points = points.transpose().reshape(2,313,1,1)\n",
    "net.getLayer(net.getLayerId(\"class8_ab\")).blobs = [points.astype(np.float32)]\n",
    "net.getLayer(net.getLayerId(\"conv8_313_rh\")).blobs = [np.full([1,313],  2.606, dtype=\"float32\")]"
   ]
  },
  {
   "cell_type": "code",
   "execution_count": 6,
   "metadata": {},
   "outputs": [],
   "source": [
    "#Ahora se carga la imagen blanco y negro, se normaliza y luego se convierte a BGR\n",
    "bw_image = cv2.imread(image_path)\n",
    "normalized = np.float32(bw_image) /255.0\n",
    "lab = cv2.cvtColor(normalized, cv2.COLOR_BGR2LAB)"
   ]
  },
  {
   "cell_type": "code",
   "execution_count": 7,
   "metadata": {},
   "outputs": [],
   "source": [
    "# La imagen se reajusta de tamaño y luego se le hace un split (se divide) del color [0]\n",
    "resized = cv2.resize(lab, (224,224))\n",
    "L = cv2.split(resized)[0]\n",
    "L -= 50"
   ]
  },
  {
   "cell_type": "code",
   "execution_count": 8,
   "metadata": {},
   "outputs": [],
   "source": [
    "# Enseguida de toma el split L y se le pasa a la red neuronal . Se le aplica traspuesta\n",
    "net.setInput(cv2.dnn.blobFromImage(L))\n",
    "ab = net.forward()[0, :, :, :].transpose((1,2,0))"
   ]
  },
  {
   "cell_type": "code",
   "execution_count": 9,
   "metadata": {},
   "outputs": [],
   "source": [
    "# La red se reajusta al tamaño de la imagen blanco y negro y nuevamente se hace split\n",
    "ab = cv2.resize(ab,(bw_image.shape[1], bw_image.shape[0]))\n",
    "L = cv2.split(lab)[0]\n",
    "\n",
    "#L es la brillantez ( lighness)"
   ]
  },
  {
   "cell_type": "code",
   "execution_count": 10,
   "metadata": {},
   "outputs": [],
   "source": [
    "# ahora se mezcla la brillantes con los colores Rojo, Verde y Azul (RGB)\n",
    "colorized = np.concatenate((L[:, :, np.newaxis],ab),axis =2)\n",
    "colorized = cv2.cvtColor(colorized, cv2.COLOR_LAB2RGB)\n",
    "colorized = (255.0 * colorized).astype(\"uint8\")\n",
    "colorized = cv2.resize(colorized,(int(bw_image.shape[1]*0.1), (int(bw_image.shape[0]*0.1))))\n",
    "# se produce la imagen a color"
   ]
  },
  {
   "cell_type": "code",
   "execution_count": 11,
   "metadata": {},
   "outputs": [],
   "source": [
    "# se muestran las imágenes en blanco y negro así como la coloreada. Luego se\n",
    "# destruyen los objetos. Habría que buscar la forma de guardar la imagen a color\n",
    "#cv2.imshow(\"BW Image\", bw_image)\n",
    "cv2.imshow(\"Colorizes\",colorized)\n",
    "cv2.waitKey(0)\n",
    "cv2.destroyAllWindows()"
   ]
  }
 ],
 "metadata": {
  "kernelspec": {
   "display_name": "Python 3",
   "language": "python",
   "name": "python3"
  },
  "language_info": {
   "codemirror_mode": {
    "name": "ipython",
    "version": 3
   },
   "file_extension": ".py",
   "mimetype": "text/x-python",
   "name": "python",
   "nbconvert_exporter": "python",
   "pygments_lexer": "ipython3",
   "version": "3.12.3"
  }
 },
 "nbformat": 4,
 "nbformat_minor": 2
}
