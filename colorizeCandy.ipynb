{
 "cells": [
  {
   "cell_type": "markdown",
   "metadata": {},
   "source": [
    "# Colorize BW Images"
   ]
  },
  {
   "cell_type": "code",
   "execution_count": 102,
   "metadata": {},
   "outputs": [],
   "source": [
    "import numpy as np \n",
    "import cv2\n",
    "from cv2 import dnn"
   ]
  },
  {
   "cell_type": "markdown",
   "metadata": {},
   "source": [
    "### MODEL FILE PATHS"
   ]
  },
  {
   "cell_type": "code",
   "execution_count": 103,
   "metadata": {},
   "outputs": [],
   "source": [
    "proto_file = './model/colorization_deploy_v2.prototxt' \n",
    "model_file = './model/colorization_release_v2.caffemodel'\n",
    "hull_pts = './model/pts_in_hull.npy'\n",
    "img_path = './images/mariaBonita.webp'"
   ]
  },
  {
   "cell_type": "markdown",
   "metadata": {},
   "source": [
    "### READING THE MODEL PARAMS"
   ]
  },
  {
   "cell_type": "code",
   "execution_count": 104,
   "metadata": {},
   "outputs": [],
   "source": [
    "net = dnn.readNetFromCaffe(proto_file, model_file)\n",
    "kernel = np.load(hull_pts)"
   ]
  },
  {
   "cell_type": "markdown",
   "metadata": {},
   "source": [
    "### READING AND PREPROCESSING IMAGE"
   ]
  },
  {
   "cell_type": "code",
   "execution_count": 105,
   "metadata": {},
   "outputs": [],
   "source": [
    "img = cv2.imread(img_path)\n",
    "scaled = img.astype(\"float32\") / 255.0\n",
    "lab_img = cv2.cvtColor(scaled, cv2.COLOR_BGR2LAB)"
   ]
  },
  {
   "cell_type": "markdown",
   "metadata": {},
   "source": [
    "### ADD THE CLUSTER CENTERS AS 1X1 CONVOLUTIONS TO THE MODEL"
   ]
  },
  {
   "cell_type": "code",
   "execution_count": 106,
   "metadata": {},
   "outputs": [],
   "source": [
    "class8 = net.getLayerId(\"class8_ab\")\n",
    "conv8 = net.getLayerId(\"conv8_313_rh\")\n",
    "pts = kernel.transpose().reshape(2, 313, 1, 1)\n",
    "net.getLayer(class8).blobs = [pts.astype(\"float32\")]\n",
    "net.getLayer(conv8).blobs = [np.full([1, 313], 2.606, dtype=\"float32\")]"
   ]
  },
  {
   "cell_type": "markdown",
   "metadata": {},
   "source": [
    "### RESIZE THE IMAGE FOR THE NETWORK"
   ]
  },
  {
   "cell_type": "code",
   "execution_count": 107,
   "metadata": {},
   "outputs": [],
   "source": [
    "resized = cv2.resize(lab_img, (224, 224))\n",
    "# split the L channel\n",
    "L = cv2.split(resized)[0]\n",
    "L -= 50"
   ]
  },
  {
   "cell_type": "markdown",
   "metadata": {},
   "source": [
    "### PREDICTING THE AB CHANNELS FROM THE INPUT L CHANNEL"
   ]
  },
  {
   "cell_type": "code",
   "execution_count": 108,
   "metadata": {},
   "outputs": [],
   "source": [
    "net.setInput(cv2.dnn.blobFromImage(L))\n",
    "ab_channel = net.forward()[0, :, :, :].transpose((1, 2, 0))"
   ]
  },
  {
   "cell_type": "markdown",
   "metadata": {},
   "source": [
    "### RESIZE THE PREDICTED 'AB' VOLUME TO THE SAME DIMENSIONS AS OUR INPUT IMAGE"
   ]
  },
  {
   "cell_type": "code",
   "execution_count": 109,
   "metadata": {},
   "outputs": [],
   "source": [
    "ab_channel = cv2.resize(ab_channel, (img.shape[1], img.shape[0]))"
   ]
  },
  {
   "cell_type": "markdown",
   "metadata": {},
   "source": [
    "### TAKE THE L CHANNEL FROM THE IMAGE"
   ]
  },
  {
   "cell_type": "code",
   "execution_count": 110,
   "metadata": {},
   "outputs": [],
   "source": [
    "L = cv2.split(lab_img)[0]"
   ]
  },
  {
   "cell_type": "markdown",
   "metadata": {},
   "source": [
    "### JOIN THE L CHANNEL WITH PREDICTED AB CHANNEL"
   ]
  },
  {
   "cell_type": "code",
   "execution_count": 111,
   "metadata": {},
   "outputs": [],
   "source": [
    "colorized = np.concatenate((L[:, :, np.newaxis], ab_channel), axis=2)"
   ]
  },
  {
   "cell_type": "markdown",
   "metadata": {},
   "source": [
    "### THEN CONVERT THE IMAGE FROM LAB TO BGR "
   ]
  },
  {
   "cell_type": "code",
   "execution_count": 112,
   "metadata": {},
   "outputs": [
    {
     "data": {
      "text/plain": [
       "-1"
      ]
     },
     "execution_count": 112,
     "metadata": {},
     "output_type": "execute_result"
    }
   ],
   "source": [
    "# colorized = cv2.cvtColor(colorized, cv2.COLOR_LAB2RGB) # Da la tonalidad azul\n",
    "colorized = cv2.cvtColor(colorized, cv2.COLOR_LAB2BGR)\n",
    "colorized = np.clip(colorized, 0, 1)\n",
    "\n",
    "colorized = (255 * colorized).astype(\"uint8\")\n",
    "\n",
    "img = cv2.resize(img,(640,640))\n",
    "colorized = cv2.resize(colorized,(640,640))\n",
    "\n",
    "result = cv2.hconcat([img,colorized])\n",
    "\n",
    "\"\"\" cv2.imshow(\"BW Image\", img)\n",
    "cv2.imshow(\"Colorizes\",colorized) \"\"\"\n",
    "\n",
    "cv2.imshow(\"Grayscale -> Colour\", result)\n",
    "colorized = cv2.resize(colorized,(1600,900))\n",
    "\n",
    "cv2.imwrite('./results/colorized_maria.png', colorized)\n",
    "\n",
    "cv2.waitKey(0)"
   ]
  }
 ],
 "metadata": {
  "kernelspec": {
   "display_name": "Python 3",
   "language": "python",
   "name": "python3"
  },
  "language_info": {
   "codemirror_mode": {
    "name": "ipython",
    "version": 3
   },
   "file_extension": ".py",
   "mimetype": "text/x-python",
   "name": "python",
   "nbconvert_exporter": "python",
   "pygments_lexer": "ipython3",
   "version": "3.12.3"
  }
 },
 "nbformat": 4,
 "nbformat_minor": 2
}
